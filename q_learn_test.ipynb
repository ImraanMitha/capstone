{
 "cells": [
  {
   "cell_type": "markdown",
   "metadata": {},
   "source": [
    "do this for practice on q learning, then do deeep q learning from deep lizard, then try the simlest possible model for my problem, a 2 dof arm where each joint can only be in 4 positions, up down left right. can do normal q learning to try and figure out \"inverse kinematics\" ie give the goal as one of the possible states the arm can be in and use q-learn to get to that position "
   ]
  },
  {
   "cell_type": "code",
   "execution_count": 14,
   "metadata": {},
   "outputs": [],
   "source": [
    "import numpy as np\n",
    "import gym\n",
    "import random\n",
    "import time \n",
    "from IPython.display import clear_output\n",
    "from matplotlib import pyplot as plt"
   ]
  },
  {
   "cell_type": "code",
   "execution_count": 15,
   "metadata": {},
   "outputs": [
    {
     "name": "stdout",
     "output_type": "stream",
     "text": [
      "4 16\n"
     ]
    }
   ],
   "source": [
    "env = gym.make(\"FrozenLake-v1\", is_slippery=False)\n",
    "action_space_size = env.action_space.n\n",
    "state_space_size = env.observation_space.n\n",
    "\n",
    "print(action_space_size, state_space_size)\n",
    "q_table = np.zeros((state_space_size, action_space_size))\n",
    "\n",
    "# print(q_table)"
   ]
  },
  {
   "cell_type": "code",
   "execution_count": 16,
   "metadata": {},
   "outputs": [],
   "source": [
    "# hyperparameters\n",
    "num_episodes = 10000\n",
    "max_steps_per_episode = 100\n",
    "\n",
    "learning_rate = 1e-1\n",
    "discount_rate = 0.99\n",
    "\n",
    "exploration_rate = 1 # probabilty we explore\n",
    "max_exploration_rate = 1\n",
    "min_exploration_rate = 1e-2\n",
    "exploration_decay_rate = 1e-3\n"
   ]
  },
  {
   "cell_type": "code",
   "execution_count": 17,
   "metadata": {},
   "outputs": [
    {
     "name": "stdout",
     "output_type": "stream",
     "text": [
      "Episode: 0\n",
      "Episode: 1000\n",
      "Episode: 2000\n",
      "Episode: 3000\n",
      "Episode: 4000\n",
      "Episode: 5000\n",
      "Episode: 6000\n",
      "Episode: 7000\n",
      "Episode: 8000\n",
      "Episode: 9000\n"
     ]
    }
   ],
   "source": [
    "rewards_all_episodes = []\n",
    "\n",
    "# loop over episodes\n",
    "for episode in range(num_episodes):\n",
    "    \n",
    "    if episode % 1000 == 0:\n",
    "        print(f'Episode: {episode}')\n",
    "\n",
    "    state = env.reset()[0]\n",
    "\n",
    "    done = False\n",
    "    rewards_current_episodes = 0\n",
    "\n",
    "    # loop through time steps in current episode\n",
    "    for step in range(max_steps_per_episode):\n",
    "\n",
    "        # check if we should explore or exploit\n",
    "        if random.uniform(0, 1) > exploration_rate: # exploit\n",
    "            action = np.argmax(q_table[state])\n",
    "        else:                                       # explore\n",
    "            action = env.action_space.sample()\n",
    "        \n",
    "        # perform the decided action\n",
    "        new_state, reward, done, _, info = env.step(action)\n",
    "\n",
    "        # update q table \n",
    "        q_table[state, action] = (1 - learning_rate) * q_table[state, action] + learning_rate * (reward + discount_rate * np.max(q_table[new_state]))\n",
    "        \n",
    "        state = new_state\n",
    "        rewards_current_episodes += reward\n",
    "\n",
    "        if done:\n",
    "            break\n",
    "    \n",
    "    # exploration rate decay. Exponential decay\n",
    "    exploration_rate = min_exploration_rate + (max_exploration_rate - min_exploration_rate) * np.exp(-exploration_decay_rate*episode)\n",
    "    rewards_all_episodes.append(rewards_current_episodes)"
   ]
  },
  {
   "cell_type": "code",
   "execution_count": null,
   "metadata": {},
   "outputs": [],
   "source": []
  },
  {
   "cell_type": "code",
   "execution_count": 18,
   "metadata": {},
   "outputs": [
    {
     "name": "stdout",
     "output_type": "stream",
     "text": [
      "(10, 1000)\n",
      "(10,)\n",
      "[0.263 0.745 0.893 0.96  0.977 0.989 0.987 0.994 0.989 0.996]\n"
     ]
    },
    {
     "data": {
      "image/png": "[encoded data removed]",
      "text/plain": [
       "<Figure size 640x480 with 1 Axes>"
      ]
     },
     "metadata": {},
     "output_type": "display_data"
    }
   ],
   "source": [
    "# average over 1000 episode long sections to track progress\n",
    "arr = np.split(np.array(rewards_all_episodes), int(num_episodes/1000))\n",
    "print(np.shape(arr))\n",
    "avgd = np.mean(arr, axis=1)\n",
    "print(np.shape(avgd))\n",
    "\n",
    "print(avgd)\n",
    "# plt.scatter(np.arange(len(avgd)), avgd)\n",
    "plt.plot(np.arange(len(avgd)), avgd)\n",
    "\n",
    "plt.show()\n"
   ]
  },
  {
   "cell_type": "code",
   "execution_count": 19,
   "metadata": {},
   "outputs": [
    {
     "name": "stdout",
     "output_type": "stream",
     "text": [
      "[0 1 2 3 4 5 6 7 8 9]\n",
      "[ 4.5 14.5 24.5 34.5 44.5 54.5 64.5 74.5 84.5 94.5]\n"
     ]
    }
   ],
   "source": [
    "arr = np.arange(100)\n",
    "narr = np.split(arr, 10)\n",
    "print(narr[0])\n",
    "print(np.mean(narr, axis=1))"
   ]
  },
  {
   "cell_type": "code",
   "execution_count": 20,
   "metadata": {},
   "outputs": [
    {
     "name": "stdout",
     "output_type": "stream",
     "text": [
      "[[0.94148015 0.95099005 0.93206535 0.94148015]\n",
      " [0.94148015 0.         0.73160383 0.84090348]\n",
      " [0.45083378 0.86754632 0.07522805 0.4474948 ]\n",
      " [0.29430534 0.         0.01888432 0.04138104]\n",
      " [0.95099005 0.96059601 0.         0.94148015]\n",
      " [0.         0.         0.         0.        ]\n",
      " [0.         0.96955928 0.         0.25094239]\n",
      " [0.         0.         0.         0.        ]\n",
      " [0.96059601 0.         0.970299   0.95099005]\n",
      " [0.960596   0.9801     0.98009994 0.        ]\n",
      " [0.89419267 0.99       0.         0.84187336]\n",
      " [0.         0.         0.         0.        ]\n",
      " [0.         0.         0.         0.        ]\n",
      " [0.         0.98009998 0.99       0.97029899]\n",
      " [0.98009994 0.98999999 1.         0.9800999 ]\n",
      " [0.         0.         0.         0.        ]]\n"
     ]
    }
   ],
   "source": [
    "print(q_table)"
   ]
  }
 ],
 "metadata": {
  "kernelspec": {
   "display_name": "Python 3",
   "language": "python",
   "name": "python3"
  },
  "language_info": {
   "codemirror_mode": {
    "name": "ipython",
    "version": 3
   },
   "file_extension": ".py",
   "mimetype": "text/x-python",
   "name": "python",
   "nbconvert_exporter": "python",
   "pygments_lexer": "ipython3",
   "version": "3.10.9"
  },
  "orig_nbformat": 4
 },
 "nbformat": 4,
 "nbformat_minor": 2
}
