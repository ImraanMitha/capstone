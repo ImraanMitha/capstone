{
 "cells": [
  {
   "cell_type": "code",
   "execution_count": 1,
   "metadata": {},
   "outputs": [],
   "source": [
    "from itertools import product\n",
    "import main"
   ]
  },
  {
   "cell_type": "code",
   "execution_count": 2,
   "metadata": {},
   "outputs": [
    {
     "name": "stdout",
     "output_type": "stream",
     "text": [
      "[(0.01, 100), (0.01, 1000), (0.001, 100), (0.001, 1000), (0.0001, 100), (0.0001, 1000)]\n"
     ]
    }
   ],
   "source": [
    "lr_cs = [1e-2, 1e-3, 1e-4]\n",
    "batch_sizes = [100, 1000]\n",
    "\n",
    "params = list(product(lr_cs, batch_sizes))\n",
    "print(params)"
   ]
  },
  {
   "cell_type": "code",
   "execution_count": 3,
   "metadata": {},
   "outputs": [
    {
     "name": "stdout",
     "output_type": "stream",
     "text": [
      "Beginning training on cpu\n",
      "\n",
      "1500 epochs, 1000 steps, 100 batch size, lr_p=0.01, lr_c=0.01, gamma=0.99, tau=0.005, None noise\n",
      "Episode 0, average reward: -19.076, in 3.017 s\n",
      "Episode 1, average reward: -15.91, in 3.504 s\n",
      "Episode 2, average reward: -13.224, in 3.519 s\n",
      "Episode 3, average reward: -15.011, in 3.496 s\n",
      "Episode 4, average reward: -15.057, in 3.373 s\n",
      "Episode 5, average reward: -22.373, in 3.078 s\n",
      "Episode 6, average reward: -16.129, in 3.171 s\n",
      "Episode 7, average reward: -11.345, in 3.349 s\n",
      "Episode 8, average reward: -26.852, in 3.262 s\n",
      "Episode 9, average reward: -23.795, in 3.05 s\n",
      "Episode 10, average reward: -13.807, in 3.084 s\n",
      "Episode 11, average reward: -29.925, in 4.498 s\n",
      "Episode 12, average reward: -15.379, in 4.016 s\n",
      "Episode 13, average reward: -12.461, in 3.201 s\n",
      "Episode 14, average reward: -12.191, in 3.115 s\n",
      "Episode 15, average reward: -10.599, in 4.603 s\n",
      "Episode 16, average reward: -14.033, in 4.617 s\n",
      "Episode 17, average reward: -11.48, in 4.591 s\n",
      "Episode 18, average reward: -30.36, in 3.503 s\n",
      "Episode 19, average reward: -11.757, in 3.573 s\n",
      "Episode 20, average reward: -13.84, in 3.269 s\n",
      "Episode 21, average reward: -11.053, in 3.237 s\n",
      "Episode 22, average reward: -18.758, in 3.201 s\n",
      "Episode 23, average reward: -15.181, in 3.101 s\n",
      "Episode 24, average reward: -13.758, in 3.111 s\n",
      "Episode 25, average reward: -29.087, in 3.421 s\n",
      "Episode 26, average reward: -13.163, in 3.03 s\n"
     ]
    }
   ],
   "source": [
    "for param_set in params:\n",
    "    hypers = {\"num_epochs\": 1500,\n",
    "                    \"batch_size\": param_set[1],\n",
    "                    \"policy_lr\": 1e-2,\n",
    "                    \"critic_lr\": param_set[0],\n",
    "                    \"gamma\": 0.99,\n",
    "                    \"tau\": 0.005,\n",
    "                    \"action_noise\": None,\n",
    "                    \"g_noise_std\": 0.1,\n",
    "                    \"replay_buffer_size\": int(1e6),\n",
    "                    \"hidden_units\": 512, # not currently used\n",
    "                    \"num_steps\": 1000\n",
    "                }\n",
    "    main.train_loop(hypers, \"models\", save=True)"
   ]
  },
  {
   "cell_type": "code",
   "execution_count": null,
   "metadata": {},
   "outputs": [],
   "source": []
  }
 ],
 "metadata": {
  "kernelspec": {
   "display_name": "py",
   "language": "python",
   "name": "python3"
  },
  "language_info": {
   "codemirror_mode": {
    "name": "ipython",
    "version": 3
   },
   "file_extension": ".py",
   "mimetype": "text/x-python",
   "name": "python",
   "nbconvert_exporter": "python",
   "pygments_lexer": "ipython3",
   "version": "3.10.9"
  },
  "orig_nbformat": 4
 },
 "nbformat": 4,
 "nbformat_minor": 2
}
