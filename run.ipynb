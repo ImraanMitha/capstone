{
 "cells": [
  {
   "cell_type": "code",
   "execution_count": 1,
   "metadata": {},
   "outputs": [],
   "source": [
    "import main"
   ]
  },
  {
   "cell_type": "code",
   "execution_count": 3,
   "metadata": {},
   "outputs": [
    {
     "name": "stdout",
     "output_type": "stream",
     "text": [
      "Beginning training on cpu\n",
      "\n",
      "200 epochs, 1000 steps, 1024 batch size, lr_p=0.05, lr_c=0.0001, gamma=0.9, tau=0.005, 512 hidden units\n",
      "Episode 0, average reward: -16.625, in 0.704 s\n"
     ]
    },
    {
     "ename": "KeyboardInterrupt",
     "evalue": "",
     "output_type": "error",
     "traceback": [
      "\u001b[0;31m---------------------------------------------------------------------------\u001b[0m",
      "\u001b[0;31mKeyboardInterrupt\u001b[0m                         Traceback (most recent call last)",
      "Cell \u001b[0;32mIn[3], line 1\u001b[0m\n\u001b[0;32m----> 1\u001b[0m main\u001b[39m.\u001b[39;49mtrain_loop(\u001b[39m\"\u001b[39;49m\u001b[39mmodels\u001b[39;49m\u001b[39m\"\u001b[39;49m)\n",
      "File \u001b[0;32m~/Library/CloudStorage/GoogleDrive-mitha019@umn.edu/My Drive/Capstone/main.py:58\u001b[0m, in \u001b[0;36mtrain_loop\u001b[0;34m(models_path)\u001b[0m\n\u001b[1;32m     55\u001b[0m agent\u001b[39m.\u001b[39mreplay_buffer\u001b[39m.\u001b[39mpush(state, action, reward, new_state, done)\n\u001b[1;32m     57\u001b[0m \u001b[39mif\u001b[39;00m \u001b[39mlen\u001b[39m(agent\u001b[39m.\u001b[39mreplay_buffer) \u001b[39m>\u001b[39m hypers[\u001b[39m\"\u001b[39m\u001b[39mbatch_size\u001b[39m\u001b[39m\"\u001b[39m]:\n\u001b[0;32m---> 58\u001b[0m     agent\u001b[39m.\u001b[39;49mupdate(hypers[\u001b[39m\"\u001b[39;49m\u001b[39mbatch_size\u001b[39;49m\u001b[39m\"\u001b[39;49m])\n\u001b[1;32m     60\u001b[0m state \u001b[39m=\u001b[39m new_state\n\u001b[1;32m     62\u001b[0m episode_reward \u001b[39m+\u001b[39m\u001b[39m=\u001b[39m reward\n",
      "File \u001b[0;32m~/Library/CloudStorage/GoogleDrive-mitha019@umn.edu/My Drive/Capstone/agents.py:70\u001b[0m, in \u001b[0;36mDDPGagent.update\u001b[0;34m(self, batch_size)\u001b[0m\n\u001b[1;32m     69\u001b[0m \u001b[39mdef\u001b[39;00m \u001b[39mupdate\u001b[39m(\u001b[39mself\u001b[39m, batch_size):\n\u001b[0;32m---> 70\u001b[0m     states, actions, rewards, next_states, dones \u001b[39m=\u001b[39m \u001b[39mself\u001b[39;49m\u001b[39m.\u001b[39;49mreplay_buffer\u001b[39m.\u001b[39;49msample(batch_size) \u001b[39m#dont use done batch rn. this will be used as (1-done) in yi but I dont get any done=True so far so it doesnt really matter yet\u001b[39;00m\n\u001b[1;32m     72\u001b[0m     \u001b[39m# using floattensor to be explicit about datatype when doing conversion from numpys standard float64 to torch float32\u001b[39;00m\n\u001b[1;32m     73\u001b[0m     states \u001b[39m=\u001b[39m torch\u001b[39m.\u001b[39mFloatTensor(states)\u001b[39m.\u001b[39mto(\u001b[39mself\u001b[39m\u001b[39m.\u001b[39mdevice)\n",
      "File \u001b[0;32m~/Library/CloudStorage/GoogleDrive-mitha019@umn.edu/My Drive/Capstone/utils.py:31\u001b[0m, in \u001b[0;36mReplayBuffer.sample\u001b[0;34m(self, batch_size)\u001b[0m\n\u001b[1;32m     28\u001b[0m     next_state_batch\u001b[39m.\u001b[39mappend(next_state)\n\u001b[1;32m     29\u001b[0m     done_batch\u001b[39m.\u001b[39mappend(done)\n\u001b[0;32m---> 31\u001b[0m \u001b[39mreturn\u001b[39;00m np\u001b[39m.\u001b[39marray(state_batch), np\u001b[39m.\u001b[39marray(action_batch), np\u001b[39m.\u001b[39marray(reward_batch), np\u001b[39m.\u001b[39;49marray(next_state_batch), np\u001b[39m.\u001b[39marray(done_batch)\n",
      "\u001b[0;31mKeyboardInterrupt\u001b[0m: "
     ]
    }
   ],
   "source": [
    "main.train_loop(\"models\")"
   ]
  },
  {
   "cell_type": "code",
   "execution_count": null,
   "metadata": {},
   "outputs": [],
   "source": []
  }
 ],
 "metadata": {
  "kernelspec": {
   "display_name": "py",
   "language": "python",
   "name": "python3"
  },
  "language_info": {
   "codemirror_mode": {
    "name": "ipython",
    "version": 3
   },
   "file_extension": ".py",
   "mimetype": "text/x-python",
   "name": "python",
   "nbconvert_exporter": "python",
   "pygments_lexer": "ipython3",
   "version": "3.10.9"
  },
  "orig_nbformat": 4
 },
 "nbformat": 4,
 "nbformat_minor": 2
}
