{
 "cells": [
  {
   "cell_type": "code",
   "execution_count": 1,
   "metadata": {},
   "outputs": [],
   "source": [
    "from manipulator_environment import Planar_Environment\n",
    "import numpy as np\n",
    "from collections import deque\n",
    "import gym\n",
    "import torch\n",
    "import matplotlib.pyplot as plt\n",
    "from IPython.display import clear_output\n",
    "import os"
   ]
  },
  {
   "cell_type": "code",
   "execution_count": 2,
   "metadata": {},
   "outputs": [],
   "source": [
    "test_arm = Planar_Environment()"
   ]
  },
  {
   "cell_type": "code",
   "execution_count": 15,
   "metadata": {},
   "outputs": [
    {
     "name": "stdout",
     "output_type": "stream",
     "text": [
      "[ 1.42461297e-02 -1.94347568e+00  5.29035632e+00 -1.61170081e+01]\n"
     ]
    }
   ],
   "source": [
    "state, reward, done = test_arm.step((-0.08999989, -2.94693267))\n",
    "print(state)\n",
    "# print(np.sqrt(ret[0][0]**2 + ret[0][1]**2))"
   ]
  },
  {
   "cell_type": "code",
   "execution_count": 16,
   "metadata": {},
   "outputs": [
    {
     "name": "stdout",
     "output_type": "stream",
     "text": [
      "[-0.35976654 -0.18242427]\n",
      "<class 'numpy.ndarray'>\n",
      "(2,)\n",
      "[ 17.92559292  -8.68069557   5.29035632 -16.11700813]\n"
     ]
    }
   ],
   "source": [
    "a = np.random.uniform(-np.pi, np.pi, 2)\n",
    "print(a)\n",
    "print(type(a))\n",
    "print(a.shape)\n",
    "state, reward, done = test_arm.step(a)\n",
    "print(state)"
   ]
  },
  {
   "cell_type": "code",
   "execution_count": 24,
   "metadata": {},
   "outputs": [
    {
     "data": {
      "image/png": "[encoded data removed]",
      "text/plain": [
       "<Figure size 640x480 with 1 Axes>"
      ]
     },
     "metadata": {},
     "output_type": "display_data"
    }
   ],
   "source": [
    "num = 20000\n",
    "arr = np.empty((num, 2))\n",
    "for i in range(num):\n",
    "    action = np.random.uniform(-np.pi, np.pi, 2)\n",
    "    state, _, _ = test_arm.step(action)\n",
    "    arr[i] = state[:2]\n",
    "\n",
    "figure, axes = plt.subplots()\n",
    "Drawing_uncolored_circle = plt.Circle((0, 0), 20, fill = False)\n",
    "axes.set_xlim(-25, 25)\n",
    "axes.set_ylim(-25, 25)\n",
    "axes.set_aspect(1)\n",
    "axes.add_artist(Drawing_uncolored_circle)\n",
    "plt.scatter(arr[:, 0], arr[:,1])\n",
    "plt.show()\n",
    "\n",
    "    "
   ]
  },
  {
   "cell_type": "code",
   "execution_count": null,
   "metadata": {},
   "outputs": [],
   "source": []
  },
  {
   "cell_type": "code",
   "execution_count": 5,
   "metadata": {},
   "outputs": [
    {
     "name": "stdout",
     "output_type": "stream",
     "text": [
      "[1.547, 3.657]\n"
     ]
    }
   ],
   "source": [
    "lst = [1.546735467546, 3.657456454]\n",
    "rounded = [round(c,3) for c in lst]\n",
    "print(rounded)"
   ]
  },
  {
   "cell_type": "code",
   "execution_count": 6,
   "metadata": {},
   "outputs": [
    {
     "data": {
      "text/plain": [
       "5.0"
      ]
     },
     "execution_count": 6,
     "metadata": {},
     "output_type": "execute_result"
    }
   ],
   "source": [
    "l1 = [0,0]\n",
    "l2 = [3,4]\n",
    "\n",
    "np.linalg.norm(np.array(l1) -np.array(l2))"
   ]
  },
  {
   "cell_type": "code",
   "execution_count": 7,
   "metadata": {},
   "outputs": [
    {
     "name": "stdout",
     "output_type": "stream",
     "text": [
      "<class 'collections.deque'>\n",
      "deque([1, 2, 3, 4])\n",
      "deque([3, 4, 1, 2])\n"
     ]
    }
   ],
   "source": [
    "# lst = [1,2,3,4]\n",
    "buffer = deque([1,2,3,4])\n",
    "print(type(buffer))\n",
    "print(buffer)\n",
    "buffer.rotate(-2)\n",
    "print(buffer)"
   ]
  },
  {
   "cell_type": "code",
   "execution_count": 8,
   "metadata": {},
   "outputs": [
    {
     "data": {
      "text/plain": [
       "2"
      ]
     },
     "execution_count": 8,
     "metadata": {},
     "output_type": "execute_result"
    }
   ],
   "source": [
    "buffer[-1]"
   ]
  },
  {
   "cell_type": "code",
   "execution_count": 9,
   "metadata": {},
   "outputs": [
    {
     "name": "stdout",
     "output_type": "stream",
     "text": [
      "[ 0.42210948 -0.90654486 -0.78053033]\n"
     ]
    },
    {
     "name": "stderr",
     "output_type": "stream",
     "text": [
      "/Users/Imraan/opt/anaconda3/envs/py/lib/python3.10/site-packages/gym/utils/passive_env_checker.py:233: DeprecationWarning: `np.bool8` is a deprecated alias for `np.bool_`.  (Deprecated NumPy 1.24)\n",
      "  if not isinstance(terminated, (bool, np.bool8)):\n"
     ]
    }
   ],
   "source": [
    "env = gym.make(\"Pendulum-v1\")\n",
    "s = env.reset()\n",
    "action = np.array([1])\n",
    "action.reshape((1,))\n",
    "new_state, reward, done, _, _ = env.step(np.array([1]))\n",
    "print(new_state)\n",
    "\n",
    "\n"
   ]
  },
  {
   "cell_type": "code",
   "execution_count": 10,
   "metadata": {},
   "outputs": [
    {
     "name": "stdout",
     "output_type": "stream",
     "text": [
      "[1, 2, 3, 4, 5]\n"
     ]
    }
   ],
   "source": [
    "lst = [1,2,3,4,5]\n",
    "print(lst[-10:])"
   ]
  },
  {
   "cell_type": "code",
   "execution_count": 16,
   "metadata": {},
   "outputs": [
    {
     "name": "stdout",
     "output_type": "stream",
     "text": [
      "torch.Size([4])\n",
      "torch.Size([1, 4])\n"
     ]
    }
   ],
   "source": [
    "x = torch.tensor([1,2,3,4])\n",
    "print(x.shape)\n",
    "y = x.unsqueeze(0)\n",
    "print(y.shape)"
   ]
  },
  {
   "cell_type": "code",
   "execution_count": 59,
   "metadata": {},
   "outputs": [
    {
     "name": "stdout",
     "output_type": "stream",
     "text": [
      "(100, 2)\n"
     ]
    },
    {
     "data": {
      "image/png": "[encoded data removed]",
      "text/plain": [
       "<Figure size 640x480 with 1 Axes>"
      ]
     },
     "metadata": {},
     "output_type": "display_data"
    }
   ],
   "source": [
    "num = 100\n",
    "working_radius = 10\n",
    "arr = np.empty((num, 2))\n",
    "print(np.shape(arr))\n",
    "for i in range(num):\n",
    "   rand_rad = np.random.uniform(0, working_radius)\n",
    "   rand_ang = np.random.uniform(-np.pi, np.pi)\n",
    "   arr[i,0] = rand_rad * np.cos(rand_ang)\n",
    "   arr[i,1] = rand_rad * np.sin(rand_ang)\n",
    "\n",
    "\n",
    "figure, axes = plt.subplots()\n",
    "Drawing_uncolored_circle = plt.Circle((0, 0), 10, fill = False)\n",
    "axes.set_xlim(-15, 15)\n",
    "axes.set_ylim(-15, 15)\n",
    "axes.set_aspect(1)\n",
    "axes.add_artist(Drawing_uncolored_circle)\n",
    "plt.scatter(arr[:, 0], arr[:,1])\n",
    "plt.show()"
   ]
  },
  {
   "cell_type": "code",
   "execution_count": 72,
   "metadata": {},
   "outputs": [
    {
     "name": "stdout",
     "output_type": "stream",
     "text": [
      "[0 1 2 3 4]\n",
      "[-0.07444016  0.1229826  -0.0701778   0.16859371  0.03855197]\n",
      "[-0.07444016  1.1229826   1.9298222   3.16859371  4.03855197]\n",
      "[0.        1.1229826 1.9298222 3.        3.       ]\n"
     ]
    }
   ],
   "source": [
    "arr = np.arange(5)\n",
    "print(arr)\n",
    "noise = np.random.normal(0, 0.1, 5)\n",
    "print(noise)\n",
    "\n",
    "arr = arr + noise\n",
    "print(arr)\n",
    "print(np.clip(arr, 0, 3))"
   ]
  },
  {
   "cell_type": "code",
   "execution_count": 67,
   "metadata": {},
   "outputs": [
    {
     "name": "stdout",
     "output_type": "stream",
     "text": [
      "(5,)\n"
     ]
    }
   ],
   "source": [
    "print(arr.shape)"
   ]
  },
  {
   "cell_type": "code",
   "execution_count": 73,
   "metadata": {},
   "outputs": [
    {
     "name": "stdout",
     "output_type": "stream",
     "text": [
      "<class 'tuple'>\n"
     ]
    }
   ],
   "source": [
    "env = gym.make(\"Pendulum-v1\")\n",
    "s = env.reset()\n",
    "print(type(s))\n"
   ]
  },
  {
   "cell_type": "code",
   "execution_count": 75,
   "metadata": {},
   "outputs": [
    {
     "name": "stdout",
     "output_type": "stream",
     "text": [
      "[6 9 3 4]\n"
     ]
    }
   ],
   "source": [
    "lst = np.array([1,2,3,4])\n",
    "lst[:2] = [6,9]\n",
    "print(lst)"
   ]
  },
  {
   "cell_type": "code",
   "execution_count": 76,
   "metadata": {},
   "outputs": [
    {
     "name": "stdout",
     "output_type": "stream",
     "text": [
      "[1, 2, 3, 4]\n",
      "[6, 9, 3, 4]\n"
     ]
    }
   ],
   "source": [
    "arr1  = [1,2,3,4]\n",
    "arr2 = arr1\n",
    "print(arr2)\n",
    "arr1[:2] = [6,9] \n",
    "print(arr2)"
   ]
  },
  {
   "cell_type": "code",
   "execution_count": 87,
   "metadata": {},
   "outputs": [
    {
     "name": "stdout",
     "output_type": "stream",
     "text": [
      "[1 2 3 4]\n",
      "[1 2 3 4]\n",
      "[6 9 3 4]\n",
      "[1 2 3 4]\n",
      "<class 'numpy.ndarray'>\n"
     ]
    }
   ],
   "source": [
    "arr1  = np.array([1,2,3,4])\n",
    "arr2 = np.copy(arr1)\n",
    "print(arr1)\n",
    "print(arr2)\n",
    "\n",
    "arr1[:2] = np.array([6,9])\n",
    "print(arr1)\n",
    "print(arr2)\n",
    "print(type(arr2))"
   ]
  },
  {
   "cell_type": "code",
   "execution_count": 82,
   "metadata": {},
   "outputs": [
    {
     "name": "stdout",
     "output_type": "stream",
     "text": [
      "9 6\n"
     ]
    }
   ],
   "source": [
    "arr1 = 6\n",
    "arr2 = arr1\n",
    "arr1 = 9\n",
    "\n",
    "print(arr1, arr2)"
   ]
  },
  {
   "cell_type": "code",
   "execution_count": 84,
   "metadata": {},
   "outputs": [
    {
     "name": "stdout",
     "output_type": "stream",
     "text": [
      "[1, 69, 3]\n",
      "[1, 69, 3]\n"
     ]
    }
   ],
   "source": [
    "a = [1,2,3]\n",
    "b=a\n",
    "b[1]=69\n",
    "print(b)\n",
    "print(a)"
   ]
  },
  {
   "cell_type": "code",
   "execution_count": 89,
   "metadata": {},
   "outputs": [
    {
     "name": "stdout",
     "output_type": "stream",
     "text": [
      "99\n",
      "199\n",
      "299\n",
      "399\n",
      "499\n"
     ]
    }
   ],
   "source": [
    "for i in range(500):\n",
    "    if (i+1) % 100 == 0:\n",
    "        print(i)"
   ]
  },
  {
   "cell_type": "code",
   "execution_count": null,
   "metadata": {},
   "outputs": [],
   "source": [
    "for i in range(100):\n",
    "    print(np.random.normal(0,36))\n"
   ]
  },
  {
   "cell_type": "code",
   "execution_count": 7,
   "metadata": {},
   "outputs": [
    {
     "name": "stdout",
     "output_type": "stream",
     "text": [
      "tensor([1., 2., 3.]) <class 'torch.Tensor'> torch.float32\n",
      "tensor([1., 2., 3.]) <class 'torch.Tensor'> torch.float32\n",
      "tensor([1., 2., 3.]) <class 'torch.Tensor'> torch.float32\n"
     ]
    }
   ],
   "source": [
    "tens = torch.tensor([1.,2.,3.])\n",
    "print(tens, type(tens), tens.dtype, end='\\n')\n",
    "\n",
    "tens = torch.Tensor([1,2,3])\n",
    "print(tens, type(tens), tens.dtype, end='\\n')\n",
    "\n",
    "tens = torch.FloatTensor([1,2,3])\n",
    "print(tens, type(tens), tens.dtype, end='\\n')"
   ]
  },
  {
   "cell_type": "code",
   "execution_count": null,
   "metadata": {},
   "outputs": [],
   "source": []
  },
  {
   "cell_type": "code",
   "execution_count": 20,
   "metadata": {},
   "outputs": [
    {
     "name": "stdout",
     "output_type": "stream",
     "text": [
      "(5, 2)\n",
      "[[0 1]\n",
      " [1 2]\n",
      " [2 3]\n",
      " [3 4]\n",
      " [4 5]]\n"
     ]
    },
    {
     "data": {
      "image/png": "[encoded data removed]",
      "text/plain": [
       "<Figure size 640x480 with 1 Axes>"
      ]
     },
     "metadata": {},
     "output_type": "display_data"
    }
   ],
   "source": [
    "arr = []\n",
    "for i in range(5):\n",
    "    arr.append(np.array([i, i+1]))\n",
    "\n",
    "arr = np.array(arr)\n",
    "print(arr.shape)\n",
    "\n",
    "plt.plot(np.arange(len(arr)), arr[:, 0])\n",
    "plt.plot(np.arange(len(arr)), arr[:, 1])\n",
    "plt.show()"
   ]
  },
  {
   "cell_type": "code",
   "execution_count": 17,
   "metadata": {},
   "outputs": [
    {
     "name": "stdout",
     "output_type": "stream",
     "text": [
      "[0 1 2 3 4]\n",
      "[1 2 3 4 5]\n"
     ]
    }
   ],
   "source": [
    "print(arr[:,0])\n",
    "print(arr[:,1])"
   ]
  },
  {
   "cell_type": "code",
   "execution_count": 26,
   "metadata": {},
   "outputs": [
    {
     "data": {
      "text/plain": [
       "Text(0.5, 1.0, 'graph 2')"
      ]
     },
     "execution_count": 26,
     "metadata": {},
     "output_type": "execute_result"
    },
    {
     "data": {
      "image/png": "[encoded data removed]",
      "text/plain": [
       "<Figure size 1000x300 with 2 Axes>"
      ]
     },
     "metadata": {},
     "output_type": "display_data"
    }
   ],
   "source": [
    "arr1 = []\n",
    "arr2 = []\n",
    "for i in range(5):\n",
    "    arr1.append(i)\n",
    "    arr2.append(i+1)\n",
    "\n",
    "arr1, arr2 = np.array(arr1), np.array(arr2)\n",
    "\n",
    "fig, axs = plt.subplots(2,1, figsize=(10,3))\n",
    "\n",
    "axs[0].plot(np.arange(len(arr1)), arr1)\n",
    "axs[1].plot(np.arange(len(arr2)), arr2)\n",
    "\n",
    "axs[0].set_title(\"graph 1\")\n",
    "axs[1].set_title(\"graph 2\")\n"
   ]
  },
  {
   "cell_type": "code",
   "execution_count": 28,
   "metadata": {},
   "outputs": [
    {
     "data": {
      "text/plain": [
       "[<matplotlib.lines.Line2D at 0x7f83c1890ca0>]"
      ]
     },
     "execution_count": 28,
     "metadata": {},
     "output_type": "execute_result"
    },
    {
     "data": {
      "image/png": "[encoded data removed]",
      "text/plain": [
       "<Figure size 640x480 with 1 Axes>"
      ]
     },
     "metadata": {},
     "output_type": "display_data"
    }
   ],
   "source": [
    "x = [1, 2]  # X-coordinates of the points\n",
    "y = [3, 5]  # Y-coordinates of the points\n",
    "\n",
    "# Plot a line connecting the two points\n",
    "plt.plot(x, y, marker='o', linestyle='-')"
   ]
  },
  {
   "cell_type": "code",
   "execution_count": 31,
   "metadata": {},
   "outputs": [
    {
     "name": "stdout",
     "output_type": "stream",
     "text": [
      "[[0, 0]]\n",
      "[[0, 0], [1, 1]]\n",
      "[[0, 0], [1, 1], [2, 2]]\n",
      "[[0, 0], [1, 1], [2, 2]]\n"
     ]
    }
   ],
   "source": [
    "end_points = []\n",
    "end_point = [0, 0]\n",
    "\n",
    "for i in range(3):\n",
    "    end_points.append(end_point.copy())\n",
    "    print(end_points)\n",
    "    end_point[0] += 1\n",
    "    end_point[1] += 1\n",
    "\n",
    "print(end_points)  "
   ]
  },
  {
   "cell_type": "code",
   "execution_count": 2,
   "metadata": {},
   "outputs": [],
   "source": [
    "env = Planar_Environment()"
   ]
  },
  {
   "cell_type": "code",
   "execution_count": null,
   "metadata": {},
   "outputs": [],
   "source": [
    "env.reset()\n",
    "env.step([0, 0])\n",
    "env.viz_arm()\n",
    "env.step([-0.84,-0.97])\n",
    "env.viz_arm()\n",
    "env.step([-0.84,-0.97])\n",
    "env.viz_arm()"
   ]
  },
  {
   "cell_type": "code",
   "execution_count": 79,
   "metadata": {},
   "outputs": [
    {
     "name": "stdout",
     "output_type": "stream",
     "text": [
      "[-9.967160040186211, -5.3367728736907765]\n",
      "[-1.68       -1.94        9.42022582  0.44669189]\n"
     ]
    }
   ],
   "source": [
    "print(env.joint_end_points[-1])\n",
    "print(env.state)"
   ]
  },
  {
   "cell_type": "code",
   "execution_count": 30,
   "metadata": {},
   "outputs": [
    {
     "name": "stdout",
     "output_type": "stream",
     "text": [
      "[0.4165772160496566, 15.856096410237678]\n"
     ]
    },
    {
     "data": {
      "image/png": "[encoded data removed]",
      "text/plain": [
       "<Figure size 640x480 with 1 Axes>"
      ]
     },
     "metadata": {},
     "output_type": "display_data"
    }
   ],
   "source": [
    "env.reset()\n",
    "env.step([0.88958, 1.3099])\n",
    "print(env.joint_end_points[-1])\n",
    "env.viz_arm()\n",
    "\n",
    "# print(env.state[2:])"
   ]
  },
  {
   "cell_type": "code",
   "execution_count": 6,
   "metadata": {},
   "outputs": [
    {
     "data": {
      "text/plain": [
       "array([10.4113946 , -8.59512392])"
      ]
     },
     "execution_count": 6,
     "metadata": {},
     "output_type": "execute_result"
    }
   ],
   "source": [
    "env.state[2:]"
   ]
  },
  {
   "cell_type": "code",
   "execution_count": null,
   "metadata": {},
   "outputs": [],
   "source": [
    "for i in range(100):\n",
    "    env.step([-0.75, 1])\n",
    "    env.viz_arm()\n",
    "    input()\n",
    "    clear_output()"
   ]
  },
  {
   "cell_type": "code",
   "execution_count": 6,
   "metadata": {},
   "outputs": [
    {
     "data": {
      "text/plain": [
       "0"
      ]
     },
     "execution_count": 6,
     "metadata": {},
     "output_type": "execute_result"
    }
   ],
   "source": [
    "(9+1) % 10"
   ]
  },
  {
   "cell_type": "code",
   "execution_count": 54,
   "metadata": {},
   "outputs": [
    {
     "name": "stdout",
     "output_type": "stream",
     "text": [
      "(3,) (1,)\n"
     ]
    }
   ],
   "source": [
    "env = gym.make(\"Pendulum-v1\")\n",
    "# print(env.action_space.low, env.action_space.high, env.action_space.shape)\n",
    "print(env.observation_space.shape, env.action_space.shape)"
   ]
  },
  {
   "cell_type": "code",
   "execution_count": 28,
   "metadata": {},
   "outputs": [
    {
     "name": "stdout",
     "output_type": "stream",
     "text": [
      "-2.827433388230748\n"
     ]
    }
   ],
   "source": [
    "angle = 301.1*np.pi\n",
    "new = (angle+np.pi) % (2*np.pi) - np.pi\n",
    "print(new)\n",
    "\n"
   ]
  },
  {
   "cell_type": "code",
   "execution_count": 13,
   "metadata": {},
   "outputs": [
    {
     "data": {
      "text/plain": [
       "1.5707963267948966"
      ]
     },
     "execution_count": 13,
     "metadata": {},
     "output_type": "execute_result"
    }
   ],
   "source": [
    "for i in range (1000):\n",
    "    angle = np.random.rand"
   ]
  },
  {
   "cell_type": "code",
   "execution_count": 36,
   "metadata": {},
   "outputs": [],
   "source": [
    "models_path = 'models'"
   ]
  },
  {
   "cell_type": "code",
   "execution_count": 48,
   "metadata": {},
   "outputs": [
    {
     "data": {
      "text/plain": [
       "['.DS_Store',\n",
       " 'run.ipynb',\n",
       " 'scratch.ipynb',\n",
       " 'Capstone October report.gdoc',\n",
       " 'q_learn_test.ipynb',\n",
       " 'models',\n",
       " 'scratch.py',\n",
       " 'manipulator_environment.py',\n",
       " 'agents.py',\n",
       " 'networks.py',\n",
       " '.gitignore',\n",
       " 'utils.py',\n",
       " 'capstone plan.gdoc',\n",
       " '.git',\n",
       " 'main.py']"
      ]
     },
     "execution_count": 48,
     "metadata": {},
     "output_type": "execute_result"
    }
   ],
   "source": [
    "os.listdir()"
   ]
  },
  {
   "cell_type": "code",
   "execution_count": 38,
   "metadata": {},
   "outputs": [
    {
     "name": "stdout",
     "output_type": "stream",
     "text": [
      "['0000', '0001']\n",
      "0002\n"
     ]
    }
   ],
   "source": [
    "existing_subdirs = [d for d in os.listdir(models_path) if os.path.isdir(os.path.join(models_path, d))]\n",
    "print(existing_subdirs)\n",
    "\n",
    "if existing_subdirs:\n",
    "    next_subdir = str(max(int(d) for d in existing_subdirs) + 1).zfill(4)\n",
    "else:\n",
    "    next_subdir = '0'.zfill(4)\n",
    "print(next_subdir)\n",
    "next_dir_path = os.path.join(models_path, next_subdir)\n",
    "os.mkdir(next_dir_path)"
   ]
  },
  {
   "cell_type": "code",
   "execution_count": 44,
   "metadata": {},
   "outputs": [],
   "source": [
    "test_dict ={\"var1\": None, \"var2\":2}\n",
    "\n",
    "with open(\"test_text_file.txt\", 'w') as f:\n",
    "    for key, value in test_dict.items():\n",
    "        f.write(f\"{key}:\\t{value}\\n\")\n"
   ]
  },
  {
   "cell_type": "code",
   "execution_count": 50,
   "metadata": {},
   "outputs": [
    {
     "data": {
      "text/plain": [
       "[<matplotlib.lines.Line2D at 0x7fa4bae72da0>]"
      ]
     },
     "execution_count": 50,
     "metadata": {},
     "output_type": "execute_result"
    },
    {
     "data": {
      "image/png": "[encoded data removed]",
      "text/plain": [
       "<Figure size 640x480 with 1 Axes>"
      ]
     },
     "metadata": {},
     "output_type": "display_data"
    }
   ],
   "source": [
    "arr = np.load(\"models/0004/avg_rewards.npy\")\n",
    "plt.plot(arr)"
   ]
  },
  {
   "cell_type": "code",
   "execution_count": 51,
   "metadata": {},
   "outputs": [
    {
     "name": "stdout",
     "output_type": "stream",
     "text": [
      "[10, 10, 10, 10, 10]\n"
     ]
    }
   ],
   "source": [
    "lst  = [10] * 5\n",
    "print(lst)"
   ]
  },
  {
   "cell_type": "code",
   "execution_count": 52,
   "metadata": {},
   "outputs": [
    {
     "name": "stdout",
     "output_type": "stream",
     "text": [
      "[1, 2, 3, 1, 2, 3, 1, 2, 3]\n"
     ]
    }
   ],
   "source": [
    "lst = [1,2,3] * 3\n",
    "print(lst)"
   ]
  },
  {
   "cell_type": "code",
   "execution_count": 62,
   "metadata": {},
   "outputs": [
    {
     "name": "stdout",
     "output_type": "stream",
     "text": [
      "testing1,      testing2\n"
     ]
    }
   ],
   "source": [
    "print('testing1,testing2')"
   ]
  },
  {
   "cell_type": "code",
   "execution_count": null,
   "metadata": {},
   "outputs": [],
   "source": [
    "gym.make(\"Reacher-v4\")"
   ]
  },
  {
   "cell_type": "code",
   "execution_count": null,
   "metadata": {},
   "outputs": [],
   "source": [
    "arr = np.array([])\n",
    "print(arr)\n",
    "arr.append((1,2))\n",
    "print(arr)"
   ]
  },
  {
   "cell_type": "code",
   "execution_count": 78,
   "metadata": {},
   "outputs": [],
   "source": [
    "def func2():\n",
    "    return np.array([1,2]), {}\n",
    "def func1():\n",
    "    return np.array([1,2])"
   ]
  },
  {
   "cell_type": "code",
   "execution_count": 79,
   "metadata": {},
   "outputs": [],
   "source": [
    "fun_to_call = func2"
   ]
  },
  {
   "cell_type": "code",
   "execution_count": 82,
   "metadata": {},
   "outputs": [
    {
     "name": "stdout",
     "output_type": "stream",
     "text": [
      "[1 2]\n",
      "<class 'numpy.ndarray'>\n"
     ]
    }
   ],
   "source": [
    "state = fun_to_call()\n",
    "print(state)\n",
    "print(type(state))"
   ]
  },
  {
   "cell_type": "code",
   "execution_count": 91,
   "metadata": {},
   "outputs": [
    {
     "name": "stdout",
     "output_type": "stream",
     "text": [
      "(array([-0.9767818 , -0.21423662, -0.68405485], dtype=float32), {}) <class 'tuple'>\n",
      "(array([-0.9836329, -0.1801841, -0.6947323], dtype=float32), -8.607410752620838, False, False, {}) <class 'numpy.ndarray'>\n"
     ]
    },
    {
     "name": "stderr",
     "output_type": "stream",
     "text": [
      "/Users/Imraan/opt/anaconda3/envs/py/lib/python3.10/site-packages/gym/utils/passive_env_checker.py:233: DeprecationWarning: `np.bool8` is a deprecated alias for `np.bool_`.  (Deprecated NumPy 1.24)\n",
      "  if not isinstance(terminated, (bool, np.bool8)):\n"
     ]
    }
   ],
   "source": [
    "env = gym.make(\"Pendulum-v1\")\n",
    "rets = env.reset()\n",
    "print(rets, type(rets))\n",
    "rets = env.step(np.array([1]))\n",
    "print(rets, type(rets[0]))"
   ]
  },
  {
   "cell_type": "code",
   "execution_count": 93,
   "metadata": {},
   "outputs": [
    {
     "name": "stdout",
     "output_type": "stream",
     "text": [
      "<class 'gym.spaces.box.Box'>\n"
     ]
    }
   ],
   "source": [
    "print(type(env.action_space))"
   ]
  },
  {
   "cell_type": "code",
   "execution_count": 95,
   "metadata": {},
   "outputs": [
    {
     "name": "stdout",
     "output_type": "stream",
     "text": [
      "<class 'numpy.ndarray'>\n"
     ]
    }
   ],
   "source": [
    "print(type(env.action_space.high))"
   ]
  },
  {
   "cell_type": "code",
   "execution_count": 96,
   "metadata": {},
   "outputs": [
    {
     "ename": "TypeError",
     "evalue": "Cannot interpret '2' as a data type",
     "output_type": "error",
     "traceback": [
      "\u001b[0;31m---------------------------------------------------------------------------\u001b[0m",
      "\u001b[0;31mTypeError\u001b[0m                                 Traceback (most recent call last)",
      "Cell \u001b[0;32mIn[96], line 1\u001b[0m\n\u001b[0;32m----> 1\u001b[0m lst  \u001b[39m=\u001b[39m [(\u001b[39m1\u001b[39m, \u001b[39mTrue\u001b[39;00m, np\u001b[39m.\u001b[39;49marray(\u001b[39m1\u001b[39;49m,\u001b[39m2\u001b[39;49m)), (\u001b[39m2\u001b[39m, \u001b[39mFalse\u001b[39;00m, np\u001b[39m.\u001b[39marray(\u001b[39m3\u001b[39m,\u001b[39m4\u001b[39m))]\n\u001b[1;32m      2\u001b[0m arr \u001b[39m=\u001b[39m np\u001b[39m.\u001b[39marray(lst)\n",
      "\u001b[0;31mTypeError\u001b[0m: Cannot interpret '2' as a data type"
     ]
    }
   ],
   "source": [
    "lst  = [(1, True, np.array(1,2)), (2, False, np.array(3,4))]\n",
    "arr = np.array(lst)"
   ]
  },
  {
   "cell_type": "code",
   "execution_count": 97,
   "metadata": {},
   "outputs": [
    {
     "name": "stdout",
     "output_type": "stream",
     "text": [
      "[2]\n",
      "2\n"
     ]
    }
   ],
   "source": [
    "arr = np.array([2])\n",
    "print(arr)\n",
    "print(arr[0])"
   ]
  },
  {
   "cell_type": "code",
   "execution_count": 99,
   "metadata": {},
   "outputs": [
    {
     "data": {
      "text/plain": [
       "array([-1.,  1.])"
      ]
     },
     "execution_count": 99,
     "metadata": {},
     "output_type": "execute_result"
    }
   ],
   "source": [
    "action = np.array([-1.3, 1.5])\n",
    "np.clip(action, np.array([-1]), np.array([1]))"
   ]
  },
  {
   "cell_type": "code",
   "execution_count": 111,
   "metadata": {},
   "outputs": [
    {
     "name": "stdout",
     "output_type": "stream",
     "text": [
      "0:10:30.49\n"
     ]
    }
   ],
   "source": [
    "t = 630.49\n",
    "(hours, minutes), seconds  = divmod(divmod(t, 60)[0], 60), (divmod(t, 60)[1])\n",
    "print(f\"{int(hours)}:{int(minutes)}:{round(seconds, 2)}\")"
   ]
  },
  {
   "cell_type": "code",
   "execution_count": 116,
   "metadata": {},
   "outputs": [
    {
     "data": {
      "text/plain": [
       "[<matplotlib.lines.Line2D at 0x7fa4a879e5c0>]"
      ]
     },
     "execution_count": 116,
     "metadata": {},
     "output_type": "execute_result"
    },
    {
     "data": {
      "image/png": "[encoded data removed]",
      "text/plain": [
       "<Figure size 640x480 with 1 Axes>"
      ]
     },
     "metadata": {},
     "output_type": "display_data"
    }
   ],
   "source": [
    "arr = np.load('models/0010/rewards.npy')\n",
    "meand = np.mean(arr.reshape(-1, 10), axis=1)\n",
    "plt.grid(True)\n",
    "\n",
    "# plt.plot(arr)\n",
    "plt.plot(meand)\n"
   ]
  },
  {
   "cell_type": "code",
   "execution_count": 119,
   "metadata": {},
   "outputs": [
    {
     "name": "stdout",
     "output_type": "stream",
     "text": [
      "[(1, True), (1, False), (3, True), (3, False), (4, True), (4, False)]\n"
     ]
    }
   ],
   "source": [
    "from itertools import product\n",
    "\n",
    "lst1 = [1, 3, 4]\n",
    "lst2 = [True, False]\n",
    "lst3 = list(product(lst1, lst2))\n",
    "print(lst3)"
   ]
  },
  {
   "cell_type": "code",
   "execution_count": null,
   "metadata": {},
   "outputs": [],
   "source": []
  }
 ],
 "metadata": {
  "kernelspec": {
   "display_name": "py",
   "language": "python",
   "name": "python3"
  },
  "language_info": {
   "codemirror_mode": {
    "name": "ipython",
    "version": 3
   },
   "file_extension": ".py",
   "mimetype": "text/x-python",
   "name": "python",
   "nbconvert_exporter": "python",
   "pygments_lexer": "ipython3",
   "version": "3.10.9"
  },
  "orig_nbformat": 4
 },
 "nbformat": 4,
 "nbformat_minor": 2
}
