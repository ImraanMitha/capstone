{
 "cells": [
  {
   "cell_type": "code",
   "execution_count": 45,
   "metadata": {},
   "outputs": [],
   "source": [
    "from manipulator_environment import Planar_Environment\n",
    "import numpy as np\n",
    "from collections import deque\n",
    "import gym\n",
    "import torch\n",
    "import matplotlib.pyplot as plt\n",
    "from IPython.display import clear_output\n",
    "\n"
   ]
  },
  {
   "cell_type": "code",
   "execution_count": 2,
   "metadata": {},
   "outputs": [],
   "source": [
    "test_arm = Planar_Environment()"
   ]
  },
  {
   "cell_type": "code",
   "execution_count": 15,
   "metadata": {},
   "outputs": [
    {
     "name": "stdout",
     "output_type": "stream",
     "text": [
      "[ 1.42461297e-02 -1.94347568e+00  5.29035632e+00 -1.61170081e+01]\n"
     ]
    }
   ],
   "source": [
    "state, reward, done = test_arm.step((-0.08999989, -2.94693267))\n",
    "print(state)\n",
    "# print(np.sqrt(ret[0][0]**2 + ret[0][1]**2))"
   ]
  },
  {
   "cell_type": "code",
   "execution_count": 16,
   "metadata": {},
   "outputs": [
    {
     "name": "stdout",
     "output_type": "stream",
     "text": [
      "[-0.35976654 -0.18242427]\n",
      "<class 'numpy.ndarray'>\n",
      "(2,)\n",
      "[ 17.92559292  -8.68069557   5.29035632 -16.11700813]\n"
     ]
    }
   ],
   "source": [
    "a = np.random.uniform(-np.pi, np.pi, 2)\n",
    "print(a)\n",
    "print(type(a))\n",
    "print(a.shape)\n",
    "state, reward, done = test_arm.step(a)\n",
    "print(state)"
   ]
  },
  {
   "cell_type": "code",
   "execution_count": 24,
   "metadata": {},
   "outputs": [
    {
     "data": {
      "image/png": "[encoded data removed]",
      "text/plain": [
       "<Figure size 640x480 with 1 Axes>"
      ]
     },
     "metadata": {},
     "output_type": "display_data"
    }
   ],
   "source": [
    "num = 20000\n",
    "arr = np.empty((num, 2))\n",
    "for i in range(num):\n",
    "    action = np.random.uniform(-np.pi, np.pi, 2)\n",
    "    state, _, _ = test_arm.step(action)\n",
    "    arr[i] = state[:2]\n",
    "\n",
    "figure, axes = plt.subplots()\n",
    "Drawing_uncolored_circle = plt.Circle((0, 0), 20, fill = False)\n",
    "axes.set_xlim(-25, 25)\n",
    "axes.set_ylim(-25, 25)\n",
    "axes.set_aspect(1)\n",
    "axes.add_artist(Drawing_uncolored_circle)\n",
    "plt.scatter(arr[:, 0], arr[:,1])\n",
    "plt.show()\n",
    "\n",
    "    "
   ]
  },
  {
   "cell_type": "code",
   "execution_count": null,
   "metadata": {},
   "outputs": [],
   "source": []
  },
  {
   "cell_type": "code",
   "execution_count": 5,
   "metadata": {},
   "outputs": [
    {
     "name": "stdout",
     "output_type": "stream",
     "text": [
      "[1.547, 3.657]\n"
     ]
    }
   ],
   "source": [
    "lst = [1.546735467546, 3.657456454]\n",
    "rounded = [round(c,3) for c in lst]\n",
    "print(rounded)"
   ]
  },
  {
   "cell_type": "code",
   "execution_count": 6,
   "metadata": {},
   "outputs": [
    {
     "data": {
      "text/plain": [
       "5.0"
      ]
     },
     "execution_count": 6,
     "metadata": {},
     "output_type": "execute_result"
    }
   ],
   "source": [
    "l1 = [0,0]\n",
    "l2 = [3,4]\n",
    "\n",
    "np.linalg.norm(np.array(l1) -np.array(l2))"
   ]
  },
  {
   "cell_type": "code",
   "execution_count": 7,
   "metadata": {},
   "outputs": [
    {
     "name": "stdout",
     "output_type": "stream",
     "text": [
      "<class 'collections.deque'>\n",
      "deque([1, 2, 3, 4])\n",
      "deque([3, 4, 1, 2])\n"
     ]
    }
   ],
   "source": [
    "# lst = [1,2,3,4]\n",
    "buffer = deque([1,2,3,4])\n",
    "print(type(buffer))\n",
    "print(buffer)\n",
    "buffer.rotate(-2)\n",
    "print(buffer)"
   ]
  },
  {
   "cell_type": "code",
   "execution_count": 8,
   "metadata": {},
   "outputs": [
    {
     "data": {
      "text/plain": [
       "2"
      ]
     },
     "execution_count": 8,
     "metadata": {},
     "output_type": "execute_result"
    }
   ],
   "source": [
    "buffer[-1]"
   ]
  },
  {
   "cell_type": "code",
   "execution_count": 9,
   "metadata": {},
   "outputs": [
    {
     "name": "stdout",
     "output_type": "stream",
     "text": [
      "[ 0.42210948 -0.90654486 -0.78053033]\n"
     ]
    },
    {
     "name": "stderr",
     "output_type": "stream",
     "text": [
      "/Users/Imraan/opt/anaconda3/envs/py/lib/python3.10/site-packages/gym/utils/passive_env_checker.py:233: DeprecationWarning: `np.bool8` is a deprecated alias for `np.bool_`.  (Deprecated NumPy 1.24)\n",
      "  if not isinstance(terminated, (bool, np.bool8)):\n"
     ]
    }
   ],
   "source": [
    "env = gym.make(\"Pendulum-v1\")\n",
    "s = env.reset()\n",
    "action = np.array([1])\n",
    "action.reshape((1,))\n",
    "new_state, reward, done, _, _ = env.step(np.array([1]))\n",
    "print(new_state)\n",
    "\n",
    "\n"
   ]
  },
  {
   "cell_type": "code",
   "execution_count": 10,
   "metadata": {},
   "outputs": [
    {
     "name": "stdout",
     "output_type": "stream",
     "text": [
      "[1, 2, 3, 4, 5]\n"
     ]
    }
   ],
   "source": [
    "lst = [1,2,3,4,5]\n",
    "print(lst[-10:])"
   ]
  },
  {
   "cell_type": "code",
   "execution_count": 16,
   "metadata": {},
   "outputs": [
    {
     "name": "stdout",
     "output_type": "stream",
     "text": [
      "torch.Size([4])\n",
      "torch.Size([1, 4])\n"
     ]
    }
   ],
   "source": [
    "x = torch.tensor([1,2,3,4])\n",
    "print(x.shape)\n",
    "y = x.unsqueeze(0)\n",
    "print(y.shape)"
   ]
  },
  {
   "cell_type": "code",
   "execution_count": 59,
   "metadata": {},
   "outputs": [
    {
     "name": "stdout",
     "output_type": "stream",
     "text": [
      "(100, 2)\n"
     ]
    },
    {
     "data": {
      "image/png": "[encoded data removed]",
      "text/plain": [
       "<Figure size 640x480 with 1 Axes>"
      ]
     },
     "metadata": {},
     "output_type": "display_data"
    }
   ],
   "source": [
    "num = 100\n",
    "working_radius = 10\n",
    "arr = np.empty((num, 2))\n",
    "print(np.shape(arr))\n",
    "for i in range(num):\n",
    "   rand_rad = np.random.uniform(0, working_radius)\n",
    "   rand_ang = np.random.uniform(-np.pi, np.pi)\n",
    "   arr[i,0] = rand_rad * np.cos(rand_ang)\n",
    "   arr[i,1] = rand_rad * np.sin(rand_ang)\n",
    "\n",
    "\n",
    "figure, axes = plt.subplots()\n",
    "Drawing_uncolored_circle = plt.Circle((0, 0), 10, fill = False)\n",
    "axes.set_xlim(-15, 15)\n",
    "axes.set_ylim(-15, 15)\n",
    "axes.set_aspect(1)\n",
    "axes.add_artist(Drawing_uncolored_circle)\n",
    "plt.scatter(arr[:, 0], arr[:,1])\n",
    "plt.show()"
   ]
  },
  {
   "cell_type": "code",
   "execution_count": 72,
   "metadata": {},
   "outputs": [
    {
     "name": "stdout",
     "output_type": "stream",
     "text": [
      "[0 1 2 3 4]\n",
      "[-0.07444016  0.1229826  -0.0701778   0.16859371  0.03855197]\n",
      "[-0.07444016  1.1229826   1.9298222   3.16859371  4.03855197]\n",
      "[0.        1.1229826 1.9298222 3.        3.       ]\n"
     ]
    }
   ],
   "source": [
    "arr = np.arange(5)\n",
    "print(arr)\n",
    "noise = np.random.normal(0, 0.1, 5)\n",
    "print(noise)\n",
    "\n",
    "arr = arr + noise\n",
    "print(arr)\n",
    "print(np.clip(arr, 0, 3))"
   ]
  },
  {
   "cell_type": "code",
   "execution_count": 67,
   "metadata": {},
   "outputs": [
    {
     "name": "stdout",
     "output_type": "stream",
     "text": [
      "(5,)\n"
     ]
    }
   ],
   "source": [
    "print(arr.shape)"
   ]
  },
  {
   "cell_type": "code",
   "execution_count": 73,
   "metadata": {},
   "outputs": [
    {
     "name": "stdout",
     "output_type": "stream",
     "text": [
      "<class 'tuple'>\n"
     ]
    }
   ],
   "source": [
    "env = gym.make(\"Pendulum-v1\")\n",
    "s = env.reset()\n",
    "print(type(s))\n"
   ]
  },
  {
   "cell_type": "code",
   "execution_count": 75,
   "metadata": {},
   "outputs": [
    {
     "name": "stdout",
     "output_type": "stream",
     "text": [
      "[6 9 3 4]\n"
     ]
    }
   ],
   "source": [
    "lst = np.array([1,2,3,4])\n",
    "lst[:2] = [6,9]\n",
    "print(lst)"
   ]
  },
  {
   "cell_type": "code",
   "execution_count": 76,
   "metadata": {},
   "outputs": [
    {
     "name": "stdout",
     "output_type": "stream",
     "text": [
      "[1, 2, 3, 4]\n",
      "[6, 9, 3, 4]\n"
     ]
    }
   ],
   "source": [
    "arr1  = [1,2,3,4]\n",
    "arr2 = arr1\n",
    "print(arr2)\n",
    "arr1[:2] = [6,9] \n",
    "print(arr2)"
   ]
  },
  {
   "cell_type": "code",
   "execution_count": 87,
   "metadata": {},
   "outputs": [
    {
     "name": "stdout",
     "output_type": "stream",
     "text": [
      "[1 2 3 4]\n",
      "[1 2 3 4]\n",
      "[6 9 3 4]\n",
      "[1 2 3 4]\n",
      "<class 'numpy.ndarray'>\n"
     ]
    }
   ],
   "source": [
    "arr1  = np.array([1,2,3,4])\n",
    "arr2 = np.copy(arr1)\n",
    "print(arr1)\n",
    "print(arr2)\n",
    "\n",
    "arr1[:2] = np.array([6,9])\n",
    "print(arr1)\n",
    "print(arr2)\n",
    "print(type(arr2))"
   ]
  },
  {
   "cell_type": "code",
   "execution_count": 82,
   "metadata": {},
   "outputs": [
    {
     "name": "stdout",
     "output_type": "stream",
     "text": [
      "9 6\n"
     ]
    }
   ],
   "source": [
    "arr1 = 6\n",
    "arr2 = arr1\n",
    "arr1 = 9\n",
    "\n",
    "print(arr1, arr2)"
   ]
  },
  {
   "cell_type": "code",
   "execution_count": 84,
   "metadata": {},
   "outputs": [
    {
     "name": "stdout",
     "output_type": "stream",
     "text": [
      "[1, 69, 3]\n",
      "[1, 69, 3]\n"
     ]
    }
   ],
   "source": [
    "a = [1,2,3]\n",
    "b=a\n",
    "b[1]=69\n",
    "print(b)\n",
    "print(a)"
   ]
  },
  {
   "cell_type": "code",
   "execution_count": 89,
   "metadata": {},
   "outputs": [
    {
     "name": "stdout",
     "output_type": "stream",
     "text": [
      "99\n",
      "199\n",
      "299\n",
      "399\n",
      "499\n"
     ]
    }
   ],
   "source": [
    "for i in range(500):\n",
    "    if (i+1) % 100 == 0:\n",
    "        print(i)"
   ]
  },
  {
   "cell_type": "code",
   "execution_count": null,
   "metadata": {},
   "outputs": [],
   "source": [
    "for i in range(100):\n",
    "    print(np.random.normal(0,36))\n"
   ]
  },
  {
   "cell_type": "code",
   "execution_count": 7,
   "metadata": {},
   "outputs": [
    {
     "name": "stdout",
     "output_type": "stream",
     "text": [
      "tensor([1., 2., 3.]) <class 'torch.Tensor'> torch.float32\n",
      "tensor([1., 2., 3.]) <class 'torch.Tensor'> torch.float32\n",
      "tensor([1., 2., 3.]) <class 'torch.Tensor'> torch.float32\n"
     ]
    }
   ],
   "source": [
    "tens = torch.tensor([1.,2.,3.])\n",
    "print(tens, type(tens), tens.dtype, end='\\n')\n",
    "\n",
    "tens = torch.Tensor([1,2,3])\n",
    "print(tens, type(tens), tens.dtype, end='\\n')\n",
    "\n",
    "tens = torch.FloatTensor([1,2,3])\n",
    "print(tens, type(tens), tens.dtype, end='\\n')"
   ]
  },
  {
   "cell_type": "code",
   "execution_count": null,
   "metadata": {},
   "outputs": [],
   "source": []
  },
  {
   "cell_type": "code",
   "execution_count": 20,
   "metadata": {},
   "outputs": [
    {
     "name": "stdout",
     "output_type": "stream",
     "text": [
      "(5, 2)\n",
      "[[0 1]\n",
      " [1 2]\n",
      " [2 3]\n",
      " [3 4]\n",
      " [4 5]]\n"
     ]
    },
    {
     "data": {
      "image/png": "[encoded data removed]",
      "text/plain": [
       "<Figure size 640x480 with 1 Axes>"
      ]
     },
     "metadata": {},
     "output_type": "display_data"
    }
   ],
   "source": [
    "arr = []\n",
    "for i in range(5):\n",
    "    arr.append(np.array([i, i+1]))\n",
    "\n",
    "arr = np.array(arr)\n",
    "print(arr.shape)\n",
    "\n",
    "plt.plot(np.arange(len(arr)), arr[:, 0])\n",
    "plt.plot(np.arange(len(arr)), arr[:, 1])\n",
    "plt.show()"
   ]
  },
  {
   "cell_type": "code",
   "execution_count": 17,
   "metadata": {},
   "outputs": [
    {
     "name": "stdout",
     "output_type": "stream",
     "text": [
      "[0 1 2 3 4]\n",
      "[1 2 3 4 5]\n"
     ]
    }
   ],
   "source": [
    "print(arr[:,0])\n",
    "print(arr[:,1])"
   ]
  },
  {
   "cell_type": "code",
   "execution_count": 26,
   "metadata": {},
   "outputs": [
    {
     "data": {
      "text/plain": [
       "Text(0.5, 1.0, 'graph 2')"
      ]
     },
     "execution_count": 26,
     "metadata": {},
     "output_type": "execute_result"
    },
    {
     "data": {
      "image/png": "[encoded data removed]",
      "text/plain": [
       "<Figure size 1000x300 with 2 Axes>"
      ]
     },
     "metadata": {},
     "output_type": "display_data"
    }
   ],
   "source": [
    "arr1 = []\n",
    "arr2 = []\n",
    "for i in range(5):\n",
    "    arr1.append(i)\n",
    "    arr2.append(i+1)\n",
    "\n",
    "arr1, arr2 = np.array(arr1), np.array(arr2)\n",
    "\n",
    "fig, axs = plt.subplots(2,1, figsize=(10,3))\n",
    "\n",
    "axs[0].plot(np.arange(len(arr1)), arr1)\n",
    "axs[1].plot(np.arange(len(arr2)), arr2)\n",
    "\n",
    "axs[0].set_title(\"graph 1\")\n",
    "axs[1].set_title(\"graph 2\")\n"
   ]
  },
  {
   "cell_type": "code",
   "execution_count": 28,
   "metadata": {},
   "outputs": [
    {
     "data": {
      "text/plain": [
       "[<matplotlib.lines.Line2D at 0x7f83c1890ca0>]"
      ]
     },
     "execution_count": 28,
     "metadata": {},
     "output_type": "execute_result"
    },
    {
     "data": {
      "image/png": "[encoded data removed]",
      "text/plain": [
       "<Figure size 640x480 with 1 Axes>"
      ]
     },
     "metadata": {},
     "output_type": "display_data"
    }
   ],
   "source": [
    "x = [1, 2]  # X-coordinates of the points\n",
    "y = [3, 5]  # Y-coordinates of the points\n",
    "\n",
    "# Plot a line connecting the two points\n",
    "plt.plot(x, y, marker='o', linestyle='-')"
   ]
  },
  {
   "cell_type": "code",
   "execution_count": 31,
   "metadata": {},
   "outputs": [
    {
     "name": "stdout",
     "output_type": "stream",
     "text": [
      "[[0, 0]]\n",
      "[[0, 0], [1, 1]]\n",
      "[[0, 0], [1, 1], [2, 2]]\n",
      "[[0, 0], [1, 1], [2, 2]]\n"
     ]
    }
   ],
   "source": [
    "end_points = []\n",
    "end_point = [0, 0]\n",
    "\n",
    "for i in range(3):\n",
    "    end_points.append(end_point.copy())\n",
    "    print(end_points)\n",
    "    end_point[0] += 1\n",
    "    end_point[1] += 1\n",
    "\n",
    "print(end_points)  "
   ]
  },
  {
   "cell_type": "code",
   "execution_count": 62,
   "metadata": {},
   "outputs": [
    {
     "data": {
      "text/plain": [
       "array([0.        , 0.        , 2.65442773, 0.19231511])"
      ]
     },
     "execution_count": 62,
     "metadata": {},
     "output_type": "execute_result"
    }
   ],
   "source": [
    "env = Planar_Environment()\n",
    "env.reset()\n"
   ]
  },
  {
   "cell_type": "code",
   "execution_count": 63,
   "metadata": {},
   "outputs": [
    {
     "ename": "ValueError",
     "evalue": "not enough values to unpack (expected 2, got 0)",
     "output_type": "error",
     "traceback": [
      "\u001b[0;31m---------------------------------------------------------------------------\u001b[0m",
      "\u001b[0;31mValueError\u001b[0m                                Traceback (most recent call last)",
      "Cell \u001b[0;32mIn[63], line 1\u001b[0m\n\u001b[0;32m----> 1\u001b[0m env\u001b[39m.\u001b[39;49mviz_arm()\n\u001b[1;32m      2\u001b[0m env\u001b[39m.\u001b[39mstep([\u001b[39m0\u001b[39m, \u001b[39m0\u001b[39m])\n\u001b[1;32m      3\u001b[0m \u001b[39minput\u001b[39m()\n",
      "File \u001b[0;32m~/Library/CloudStorage/GoogleDrive-mitha019@umn.edu/My Drive/Capstone/manipulator_environment.py:74\u001b[0m, in \u001b[0;36mviz_arm\u001b[0;34m(self)\u001b[0m\n\u001b[1;32m     70\u001b[0m     \u001b[39mreturn\u001b[39;00m np\u001b[39m.\u001b[39mcopy(\u001b[39mself\u001b[39m\u001b[39m.\u001b[39mstate), reward, done \u001b[39m# TODO: need to figure this out, if should be returning copy or reference\u001b[39;00m\n\u001b[1;32m     71\u001b[0m     \u001b[39m# return self.state, reward, done\u001b[39;00m\n\u001b[1;32m     73\u001b[0m \u001b[39m'''\u001b[39;00m\n\u001b[0;32m---> 74\u001b[0m \u001b[39mPlots the joints with the workspace outline\u001b[39;00m\n\u001b[1;32m     75\u001b[0m \u001b[39m'''\u001b[39;00m\n\u001b[1;32m     76\u001b[0m \u001b[39mdef\u001b[39;00m \u001b[39mviz_arm\u001b[39m(\u001b[39mself\u001b[39m):\n\u001b[1;32m     77\u001b[0m     x_coors, y_coors \u001b[39m=\u001b[39m \u001b[39mzip\u001b[39m(\u001b[39m*\u001b[39m\u001b[39mself\u001b[39m\u001b[39m.\u001b[39mjoint_end_points)\n",
      "\u001b[0;31mValueError\u001b[0m: not enough values to unpack (expected 2, got 0)"
     ]
    }
   ],
   "source": [
    "env.viz_arm()\n",
    "env.step([0, 0])\n",
    "input()\n",
    "env.step([-0.75, 1])\n",
    "env.viz_arm()"
   ]
  },
  {
   "cell_type": "code",
   "execution_count": 56,
   "metadata": {},
   "outputs": [
    {
     "data": {
      "image/png": "[encoded data removed]",
      "text/plain": [
       "<Figure size 640x480 with 1 Axes>"
      ]
     },
     "metadata": {},
     "output_type": "display_data"
    }
   ],
   "source": [
    "env.step([-0.75, 1])\n",
    "env.viz_arm()"
   ]
  },
  {
   "cell_type": "code",
   "execution_count": null,
   "metadata": {},
   "outputs": [],
   "source": [
    "for i in range(100):\n",
    "    env.step([-0.75, 1])\n",
    "    env.viz_arm()\n",
    "    input()\n",
    "    clear_output()"
   ]
  },
  {
   "cell_type": "code",
   "execution_count": null,
   "metadata": {},
   "outputs": [],
   "source": [
    "\n",
    "\n",
    "\n",
    "\n",
    "\n",
    "\n",
    "\n",
    "\n",
    "\n",
    "\n",
    "\n",
    "\n"
   ]
  },
  {
   "cell_type": "code",
   "execution_count": null,
   "metadata": {},
   "outputs": [],
   "source": []
  }
 ],
 "metadata": {
  "kernelspec": {
   "display_name": "py",
   "language": "python",
   "name": "python3"
  },
  "language_info": {
   "codemirror_mode": {
    "name": "ipython",
    "version": 3
   },
   "file_extension": ".py",
   "mimetype": "text/x-python",
   "name": "python",
   "nbconvert_exporter": "python",
   "pygments_lexer": "ipython3",
   "version": "3.10.9"
  },
  "orig_nbformat": 4
 },
 "nbformat": 4,
 "nbformat_minor": 2
}
