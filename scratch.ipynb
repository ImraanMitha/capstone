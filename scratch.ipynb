{
 "cells": [
  {
   "cell_type": "code",
   "execution_count": 1,
   "metadata": {},
   "outputs": [],
   "source": [
    "from manipuator_environment import Planar_Environment\n",
    "import numpy as np\n",
    "from collections import deque\n",
    "import gym\n",
    "import torch\n",
    "import matplotlib.pyplot as plt"
   ]
  },
  {
   "cell_type": "code",
   "execution_count": 2,
   "metadata": {},
   "outputs": [],
   "source": [
    "test_arm = Planar_Environment()"
   ]
  },
  {
   "cell_type": "code",
   "execution_count": 15,
   "metadata": {},
   "outputs": [
    {
     "name": "stdout",
     "output_type": "stream",
     "text": [
      "[ 1.42461297e-02 -1.94347568e+00  5.29035632e+00 -1.61170081e+01]\n"
     ]
    }
   ],
   "source": [
    "state, reward, done = test_arm.step((-0.08999989, -2.94693267))\n",
    "print(state)\n",
    "# print(np.sqrt(ret[0][0]**2 + ret[0][1]**2))"
   ]
  },
  {
   "cell_type": "code",
   "execution_count": 16,
   "metadata": {},
   "outputs": [
    {
     "name": "stdout",
     "output_type": "stream",
     "text": [
      "[-0.35976654 -0.18242427]\n",
      "<class 'numpy.ndarray'>\n",
      "(2,)\n",
      "[ 17.92559292  -8.68069557   5.29035632 -16.11700813]\n"
     ]
    }
   ],
   "source": [
    "a = np.random.uniform(-np.pi, np.pi, 2)\n",
    "print(a)\n",
    "print(type(a))\n",
    "print(a.shape)\n",
    "state, reward, done = test_arm.step(a)\n",
    "print(state)"
   ]
  },
  {
   "cell_type": "code",
   "execution_count": 24,
   "metadata": {},
   "outputs": [
    {
     "data": {
      "image/png": "[encoded data removed]",
      "text/plain": [
       "<Figure size 640x480 with 1 Axes>"
      ]
     },
     "metadata": {},
     "output_type": "display_data"
    }
   ],
   "source": [
    "num = 20000\n",
    "arr = np.empty((num, 2))\n",
    "for i in range(num):\n",
    "    action = np.random.uniform(-np.pi, np.pi, 2)\n",
    "    state, _, _ = test_arm.step(action)\n",
    "    arr[i] = state[:2]\n",
    "\n",
    "figure, axes = plt.subplots()\n",
    "Drawing_uncolored_circle = plt.Circle((0, 0), 20, fill = False)\n",
    "axes.set_xlim(-25, 25)\n",
    "axes.set_ylim(-25, 25)\n",
    "axes.set_aspect(1)\n",
    "axes.add_artist(Drawing_uncolored_circle)\n",
    "plt.scatter(arr[:, 0], arr[:,1])\n",
    "plt.show()\n",
    "\n",
    "    "
   ]
  },
  {
   "cell_type": "code",
   "execution_count": null,
   "metadata": {},
   "outputs": [],
   "source": []
  },
  {
   "cell_type": "code",
   "execution_count": 5,
   "metadata": {},
   "outputs": [
    {
     "name": "stdout",
     "output_type": "stream",
     "text": [
      "[1.547, 3.657]\n"
     ]
    }
   ],
   "source": [
    "lst = [1.546735467546, 3.657456454]\n",
    "rounded = [round(c,3) for c in lst]\n",
    "print(rounded)"
   ]
  },
  {
   "cell_type": "code",
   "execution_count": 6,
   "metadata": {},
   "outputs": [
    {
     "data": {
      "text/plain": [
       "5.0"
      ]
     },
     "execution_count": 6,
     "metadata": {},
     "output_type": "execute_result"
    }
   ],
   "source": [
    "l1 = [0,0]\n",
    "l2 = [3,4]\n",
    "\n",
    "np.linalg.norm(np.array(l1) -np.array(l2))"
   ]
  },
  {
   "cell_type": "code",
   "execution_count": 7,
   "metadata": {},
   "outputs": [
    {
     "name": "stdout",
     "output_type": "stream",
     "text": [
      "<class 'collections.deque'>\n",
      "deque([1, 2, 3, 4])\n",
      "deque([3, 4, 1, 2])\n"
     ]
    }
   ],
   "source": [
    "# lst = [1,2,3,4]\n",
    "buffer = deque([1,2,3,4])\n",
    "print(type(buffer))\n",
    "print(buffer)\n",
    "buffer.rotate(-2)\n",
    "print(buffer)"
   ]
  },
  {
   "cell_type": "code",
   "execution_count": 8,
   "metadata": {},
   "outputs": [
    {
     "data": {
      "text/plain": [
       "2"
      ]
     },
     "execution_count": 8,
     "metadata": {},
     "output_type": "execute_result"
    }
   ],
   "source": [
    "buffer[-1]"
   ]
  },
  {
   "cell_type": "code",
   "execution_count": 9,
   "metadata": {},
   "outputs": [
    {
     "name": "stdout",
     "output_type": "stream",
     "text": [
      "[ 0.42210948 -0.90654486 -0.78053033]\n"
     ]
    },
    {
     "name": "stderr",
     "output_type": "stream",
     "text": [
      "/Users/Imraan/opt/anaconda3/envs/py/lib/python3.10/site-packages/gym/utils/passive_env_checker.py:233: DeprecationWarning: `np.bool8` is a deprecated alias for `np.bool_`.  (Deprecated NumPy 1.24)\n",
      "  if not isinstance(terminated, (bool, np.bool8)):\n"
     ]
    }
   ],
   "source": [
    "env = gym.make(\"Pendulum-v1\")\n",
    "s = env.reset()\n",
    "action = np.array([1])\n",
    "action.reshape((1,))\n",
    "new_state, reward, done, _, _ = env.step(np.array([1]))\n",
    "print(new_state)\n",
    "\n",
    "\n"
   ]
  },
  {
   "cell_type": "code",
   "execution_count": 10,
   "metadata": {},
   "outputs": [
    {
     "name": "stdout",
     "output_type": "stream",
     "text": [
      "[1, 2, 3, 4, 5]\n"
     ]
    }
   ],
   "source": [
    "lst = [1,2,3,4,5]\n",
    "print(lst[-10:])"
   ]
  },
  {
   "cell_type": "code",
   "execution_count": 16,
   "metadata": {},
   "outputs": [
    {
     "name": "stdout",
     "output_type": "stream",
     "text": [
      "torch.Size([4])\n",
      "torch.Size([1, 4])\n"
     ]
    }
   ],
   "source": [
    "x = torch.tensor([1,2,3,4])\n",
    "print(x.shape)\n",
    "y = x.unsqueeze(0)\n",
    "print(y.shape)"
   ]
  },
  {
   "cell_type": "code",
   "execution_count": 59,
   "metadata": {},
   "outputs": [
    {
     "name": "stdout",
     "output_type": "stream",
     "text": [
      "(100, 2)\n"
     ]
    },
    {
     "data": {
      "image/png": "[encoded data removed]",
      "text/plain": [
       "<Figure size 640x480 with 1 Axes>"
      ]
     },
     "metadata": {},
     "output_type": "display_data"
    }
   ],
   "source": [
    "num = 100\n",
    "working_radius = 10\n",
    "arr = np.empty((num, 2))\n",
    "print(np.shape(arr))\n",
    "for i in range(num):\n",
    "   rand_rad = np.random.uniform(0, working_radius)\n",
    "   rand_ang = np.random.uniform(-np.pi, np.pi)\n",
    "   arr[i,0] = rand_rad * np.cos(rand_ang)\n",
    "   arr[i,1] = rand_rad * np.sin(rand_ang)\n",
    "\n",
    "\n",
    "figure, axes = plt.subplots()\n",
    "Drawing_uncolored_circle = plt.Circle((0, 0), 10, fill = False)\n",
    "axes.set_xlim(-15, 15)\n",
    "axes.set_ylim(-15, 15)\n",
    "axes.set_aspect(1)\n",
    "axes.add_artist(Drawing_uncolored_circle)\n",
    "plt.scatter(arr[:, 0], arr[:,1])\n",
    "plt.show()"
   ]
  },
  {
   "cell_type": "code",
   "execution_count": 72,
   "metadata": {},
   "outputs": [
    {
     "name": "stdout",
     "output_type": "stream",
     "text": [
      "[0 1 2 3 4]\n",
      "[-0.07444016  0.1229826  -0.0701778   0.16859371  0.03855197]\n",
      "[-0.07444016  1.1229826   1.9298222   3.16859371  4.03855197]\n",
      "[0.        1.1229826 1.9298222 3.        3.       ]\n"
     ]
    }
   ],
   "source": [
    "arr = np.arange(5)\n",
    "print(arr)\n",
    "noise = np.random.normal(0, 0.1, 5)\n",
    "print(noise)\n",
    "\n",
    "arr = arr + noise\n",
    "print(arr)\n",
    "print(np.clip(arr, 0, 3))"
   ]
  },
  {
   "cell_type": "code",
   "execution_count": 67,
   "metadata": {},
   "outputs": [
    {
     "name": "stdout",
     "output_type": "stream",
     "text": [
      "(5,)\n"
     ]
    }
   ],
   "source": [
    "print(arr.shape)"
   ]
  },
  {
   "cell_type": "code",
   "execution_count": 73,
   "metadata": {},
   "outputs": [
    {
     "name": "stdout",
     "output_type": "stream",
     "text": [
      "<class 'tuple'>\n"
     ]
    }
   ],
   "source": [
    "env = gym.make(\"Pendulum-v1\")\n",
    "s = env.reset()\n",
    "print(type(s))\n"
   ]
  },
  {
   "cell_type": "code",
   "execution_count": 75,
   "metadata": {},
   "outputs": [
    {
     "name": "stdout",
     "output_type": "stream",
     "text": [
      "[6 9 3 4]\n"
     ]
    }
   ],
   "source": [
    "lst = np.array([1,2,3,4])\n",
    "lst[:2] = [6,9]\n",
    "print(lst)"
   ]
  },
  {
   "cell_type": "code",
   "execution_count": 76,
   "metadata": {},
   "outputs": [
    {
     "name": "stdout",
     "output_type": "stream",
     "text": [
      "[1, 2, 3, 4]\n",
      "[6, 9, 3, 4]\n"
     ]
    }
   ],
   "source": [
    "arr1  = [1,2,3,4]\n",
    "arr2 = arr1\n",
    "print(arr2)\n",
    "arr1[:2] = [6,9] \n",
    "print(arr2)"
   ]
  },
  {
   "cell_type": "code",
   "execution_count": 87,
   "metadata": {},
   "outputs": [
    {
     "name": "stdout",
     "output_type": "stream",
     "text": [
      "[1 2 3 4]\n",
      "[1 2 3 4]\n",
      "[6 9 3 4]\n",
      "[1 2 3 4]\n",
      "<class 'numpy.ndarray'>\n"
     ]
    }
   ],
   "source": [
    "arr1  = np.array([1,2,3,4])\n",
    "arr2 = np.copy(arr1)\n",
    "print(arr1)\n",
    "print(arr2)\n",
    "\n",
    "arr1[:2] = np.array([6,9])\n",
    "print(arr1)\n",
    "print(arr2)\n",
    "print(type(arr2))"
   ]
  },
  {
   "cell_type": "code",
   "execution_count": 82,
   "metadata": {},
   "outputs": [
    {
     "name": "stdout",
     "output_type": "stream",
     "text": [
      "9 6\n"
     ]
    }
   ],
   "source": [
    "arr1 = 6\n",
    "arr2 = arr1\n",
    "arr1 = 9\n",
    "\n",
    "print(arr1, arr2)"
   ]
  },
  {
   "cell_type": "code",
   "execution_count": 84,
   "metadata": {},
   "outputs": [
    {
     "name": "stdout",
     "output_type": "stream",
     "text": [
      "[1, 69, 3]\n",
      "[1, 69, 3]\n"
     ]
    }
   ],
   "source": [
    "a = [1,2,3]\n",
    "b=a\n",
    "b[1]=69\n",
    "print(b)\n",
    "print(a)"
   ]
  },
  {
   "cell_type": "code",
   "execution_count": 89,
   "metadata": {},
   "outputs": [
    {
     "name": "stdout",
     "output_type": "stream",
     "text": [
      "99\n",
      "199\n",
      "299\n",
      "399\n",
      "499\n"
     ]
    }
   ],
   "source": [
    "for i in range(500):\n",
    "    if (i+1) % 100 == 0:\n",
    "        print(i)"
   ]
  },
  {
   "cell_type": "code",
   "execution_count": null,
   "metadata": {},
   "outputs": [],
   "source": [
    "for i in range(100):\n",
    "    print(np.random.normal(0,36))\n"
   ]
  }
 ],
 "metadata": {
  "kernelspec": {
   "display_name": "py",
   "language": "python",
   "name": "python3"
  },
  "language_info": {
   "codemirror_mode": {
    "name": "ipython",
    "version": 3
   },
   "file_extension": ".py",
   "mimetype": "text/x-python",
   "name": "python",
   "nbconvert_exporter": "python",
   "pygments_lexer": "ipython3",
   "version": "3.10.9"
  },
  "orig_nbformat": 4
 },
 "nbformat": 4,
 "nbformat_minor": 2
}
